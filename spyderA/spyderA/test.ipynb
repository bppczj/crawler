{
 "cells": [
  {
   "cell_type": "code",
   "execution_count": 23,
   "metadata": {
    "collapsed": false
   },
   "outputs": [
    {
     "name": "stdout",
     "output_type": "stream",
     "text": [
      "Flask 静态文件缓存问题  \n仙宇\n【Python搞搞轻量博客】必要的知识  \n仙宇\n【Python搞搞轻量博客】第三发 开发无数据库留言板  \n仙宇\n【Python搞搞轻量Blog】第二发 Flask入门(2)  \n仙宇\n【Python搞搞轻量Blog】第一发 Flask入门  \n仙宇\nSSH反向隧道搭建过程  \n崔庆才\nAttention原理及TensorFlow AttentionWrapper源码解析  \n崔庆才\nRequests库作者另一神器Pipenv的用法  \n崔庆才\n中文分词原理及工具  \n崔庆才\n深度学习 GPU环境 Ubuntu 16.04 + Nvidia GTX 1080 + Python 3.6 + CUDA 9.0 + cuDNN 7.1 + TensorFlow 1.6 环境配置  \n崔庆才\n"
     ]
    }
   ],
   "source": [
    "from lxml import etree\n",
    "import urllib2\n",
    "\n",
    "url='https://cuiqingcai.com/'\n",
    "user_agent = 'Mozilla/4.0 (compatible; MSIE 5.5; Windows NT)' \n",
    "headers = { 'User-Agent' : user_agent } \n",
    "request = urllib2.Request(url, headers=headers) \n",
    "response = urllib2.urlopen(request) \n",
    "html=response.read().decode('utf-8')\n",
    "# print html\n",
    "#     / html / body / section / div[2] / div / article[1] / header / h2 / a\n",
    "# /html/body/section/div[2]/div/article[1]/p/span[1]/a\n",
    "tree=etree.HTML(html)\n",
    "for article in tree.xpath('//div/article'):\n",
    "    print article.xpath('.//h2/a[@title]')[0].text\n",
    "    print article.xpath('.//span//a')[0].text"
   ]
  },
  {
   "cell_type": "code",
   "execution_count": null,
   "metadata": {},
   "outputs": [],
   "source": [
    ""
   ]
  }
 ],
 "metadata": {
  "kernelspec": {
   "display_name": "Python 2",
   "language": "python",
   "name": "python2"
  },
  "language_info": {
   "codemirror_mode": {
    "name": "ipython",
    "version": 2.0
   },
   "file_extension": ".py",
   "mimetype": "text/x-python",
   "name": "python",
   "nbconvert_exporter": "python",
   "pygments_lexer": "ipython2",
   "version": "2.7.6"
  }
 },
 "nbformat": 4,
 "nbformat_minor": 0
}